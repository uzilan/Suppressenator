{
 "cells": [
  {
   "cell_type": "code",
   "execution_count": 16,
   "metadata": {
    "collapsed": true,
    "ExecuteTime": {
     "end_time": "2023-11-13T14:04:38.947409Z",
     "start_time": "2023-11-13T14:04:35.528655Z"
    }
   },
   "outputs": [],
   "source": [
    "%use kandy"
   ]
  },
  {
   "cell_type": "markdown",
   "source": [
    "# Suppressenator\n",
    "Find all the @Suppress and @SuppressWarnings annotations in your code"
   ],
   "metadata": {
    "collapsed": false
   }
  },
  {
   "cell_type": "code",
   "execution_count": 17,
   "outputs": [],
   "source": [
    "val rootDirectory = \".\" // change this directory if needed"
   ],
   "metadata": {
    "collapsed": false,
    "ExecuteTime": {
     "end_time": "2023-11-13T14:04:38.953039Z",
     "start_time": "2023-11-13T14:04:38.930618Z"
    }
   }
  },
  {
   "cell_type": "code",
   "execution_count": 18,
   "outputs": [],
   "source": [
    "import java.io.File\n",
    "\n",
    "val supps = (collectSuppresses(File(rootDirectory)) )\n",
    "    .groupingBy { it }\n",
    "    .eachCount()\n",
    "    .toList()\n",
    "    .sortedBy { (_, value) -> value }\n",
    "    .reversed()\n",
    "    .toMap()\n",
    "\n",
    "fun collectSuppresses(dir: File): List<String> = dir.walk()\n",
    "    .filter { it.isFile && it.extension == \"kt\" }\n",
    "    .map { it.readText() }\n",
    "    .filter { it.contains(\"Suppress(\") || it.contains(\"SuppressWarnings(\") }\n",
    "    .map { it.replace(\"\\n\", \" \") }\n",
    "    .map { line -> findSuppress(line) }\n",
    "    .filter { it.isNotEmpty() }\n",
    "    .flatten()\n",
    "    .toList()\n",
    "\n",
    "fun findSuppress(text: String): List<String> {\n",
    "    val regex = \"\"\"@(?:Suppress|SuppressWarnings)\\(\\s*([^\\)]+)\\s*\\)\"\"\".toRegex()\n",
    "    return regex.findAll(text)\n",
    "        .toList()\n",
    "        .flatMap {\n",
    "            it.groupValues[1]\n",
    "                .replace(\"\"\"\"\"\"\", \"\")\n",
    "                .split(\",\")\n",
    "        }\n",
    "        .map { it.trim() }\n",
    "        .filter { it.isNotEmpty() }\n",
    "}"
   ],
   "metadata": {
    "collapsed": false,
    "ExecuteTime": {
     "end_time": "2023-11-13T14:04:39.394755Z",
     "start_time": "2023-11-13T14:04:38.937861Z"
    }
   }
  },
  {
   "cell_type": "code",
   "execution_count": 19,
   "outputs": [
    {
     "data": {
      "text/html": "            <script type=\"text/javascript\" data-lets-plot-script=\"library\" src=\"https://cdn.jsdelivr.net/gh/JetBrains/lets-plot@v3.1.0/js-package/distr/lets-plot.min.js\"></script>    \n               <div id=\"lGKknH\"></div>\n   <script type=\"text/javascript\" data-lets-plot-script=\"plot\">\n       var plotSpec={\n\"ggtitle\":{\n\"text\":\"Usage of @Suppress and @SuppressWarnings\"\n},\n\"mapping\":{\n},\n\"data\":{\n},\n\"ggsize\":{\n\"width\":2000.0,\n\"height\":700.0\n},\n\"kind\":\"plot\",\n\"scales\":[{\n\"aesthetic\":\"x\",\n\"discrete\":true\n},{\n\"aesthetic\":\"y\",\n\"limits\":[null,null]\n},{\n\"aesthetic\":\"fill\",\n\"scale_mapper_kind\":\"color_gradient\",\n\"high\":\"#ee6666\",\n\"low\":\"#fac858\",\n\"limits\":[null,null]\n}],\n\"layers\":[{\n\"mapping\":{\n\"x\":\"names\",\n\"y\":\"count\",\n\"fill\":\"count\"\n},\n\"stat\":\"identity\",\n\"data\":{\n\"names\":[\"UnusedPrivateMember\",\"MagicNumber\",\"LongParameterList\",\"MaxLineLength\",\"FunctionOnlyReturningConstant\"],\n\"count\":[7.0,2.0,2.0,1.0,1.0]\n},\n\"size\":0.5,\n\"color\":\"#000000\",\n\"sampling\":\"none\",\n\"position\":\"dodge\",\n\"geom\":\"bar\"\n}],\n\"theme\":{\n\"flavor\":\"solarized_light\"\n}\n};\n       var plotContainer = document.getElementById(\"lGKknH\");\n       LetsPlot.buildPlotFromProcessedSpecs(plotSpec, -1, -1, plotContainer);\n   </script>            \n        <svg id=956407ec-9255-4f4e-b707-c46c99091ab4 xmlns=\"http://www.w3.org/2000/svg\" xmlns:xlink=\"http://www.w3.org/1999/xlink\" class=\"plt-container\" width=\"2000.0\" height=\"700.0\">\n  <style type=\"text/css\">\n  .plt-container {\n   font-family: Lucida Grande, sans-serif;\n   user-select: none;\n   -webkit-user-select: none;\n   -moz-user-select: none;\n   -ms-user-select: none;\n}\ntext {\n   text-rendering: optimizeLegibility;\n}\n#pJk63lP .plot-title {\n   fill: #2e4e58;\n   font-family: Lucida Grande, sans-serif;\n   font-size: 16.0px;\n   font-weight: normal;\n   font-style: normal;   \n}\n#pJk63lP .plot-subtitle {\n   fill: #2e4e58;\n   font-family: Lucida Grande, sans-serif;\n   font-size: 15.0px;\n   font-weight: normal;\n   font-style: normal;   \n}\n#pJk63lP .plot-caption {\n   fill: #2e4e58;\n   font-family: Lucida Grande, sans-serif;\n   font-size: 13.0px;\n   font-weight: normal;\n   font-style: normal;   \n}\n#pJk63lP .legend-title {\n   fill: #2e4e58;\n   font-family: Lucida Grande, sans-serif;\n   font-size: 15.0px;\n   font-weight: normal;\n   font-style: normal;   \n}\n#pJk63lP .legend-item {\n   fill: #2e4e58;\n   font-family: Lucida Grande, sans-serif;\n   font-size: 13.0px;\n   font-weight: normal;\n   font-style: normal;   \n}\n#pJk63lP .axis-title-x {\n   fill: #2e4e58;\n   font-family: Lucida Grande, sans-serif;\n   font-size: 15.0px;\n   font-weight: normal;\n   font-style: normal;   \n}\n#pJk63lP .axis-text-x {\n   fill: #2e4e58;\n   font-family: Lucida Grande, sans-serif;\n   font-size: 13.0px;\n   font-weight: normal;\n   font-style: normal;   \n}\n#d2MgJNQ .axis-tooltip-text-x {\n   fill: #fdf6e3;\n   font-family: Lucida Grande, sans-serif;\n   font-size: 13.0px;\n   font-weight: normal;\n   font-style: normal;   \n}\n#pJk63lP .axis-title-y {\n   fill: #2e4e58;\n   font-family: Lucida Grande, sans-serif;\n   font-size: 15.0px;\n   font-weight: normal;\n   font-style: normal;   \n}\n#pJk63lP .axis-text-y {\n   fill: #2e4e58;\n   font-family: Lucida Grande, sans-serif;\n   font-size: 13.0px;\n   font-weight: normal;\n   font-style: normal;   \n}\n#d2MgJNQ .axis-tooltip-text-y {\n   fill: #fdf6e3;\n   font-family: Lucida Grande, sans-serif;\n   font-size: 13.0px;\n   font-weight: normal;\n   font-style: normal;   \n}\n#pJk63lP .facet-strip-text-x {\n   fill: #2e4e58;\n   font-family: Lucida Grande, sans-serif;\n   font-size: 13.0px;\n   font-weight: normal;\n   font-style: normal;   \n}\n#pJk63lP .facet-strip-text-y {\n   fill: #2e4e58;\n   font-family: Lucida Grande, sans-serif;\n   font-size: 13.0px;\n   font-weight: normal;\n   font-style: normal;   \n}\n#d2MgJNQ .tooltip-text {\n   fill: #2e4e58;\n   font-family: Lucida Grande, sans-serif;\n   font-size: 13.0px;\n   font-weight: normal;\n   font-style: normal;   \n}\n#d2MgJNQ .tooltip-title {\n   fill: #2e4e58;\n   font-family: Lucida Grande, sans-serif;\n   font-size: 13.0px;\n   font-weight: bold;\n   font-style: normal;   \n}\n#d2MgJNQ .tooltip-label {\n   fill: #2e4e58;\n   font-family: Lucida Grande, sans-serif;\n   font-size: 13.0px;\n   font-weight: bold;\n   font-style: normal;   \n}\n\n  </style>\n  <g id=\"pJk63lP\">\n    <rect x=\"0.0\" y=\"0.0\" height=\"700.0\" width=\"2000.0\" stroke=\"rgb(46,78,88)\" stroke-opacity=\"1.0\" stroke-width=\"0.0\" fill=\"rgb(253,246,227)\" fill-opacity=\"1.0\">\n    </rect>\n    <g transform=\"translate(23.0 34.0 ) \">\n      <g transform=\"translate(27.034701220281416 620.0 ) \">\n        <line x1=\"230.2321717185667\" y1=\"-0.0\" x2=\"230.2321717185667\" y2=\"-620.0\" stroke=\"rgb(215,212,203)\" stroke-opacity=\"1.0\" stroke-width=\"1.0\">\n        </line>\n        <line x1=\"584.4355128240538\" y1=\"-0.0\" x2=\"584.4355128240538\" y2=\"-620.0\" stroke=\"rgb(215,212,203)\" stroke-opacity=\"1.0\" stroke-width=\"1.0\">\n        </line>\n        <line x1=\"938.638853929541\" y1=\"-0.0\" x2=\"938.638853929541\" y2=\"-620.0\" stroke=\"rgb(215,212,203)\" stroke-opacity=\"1.0\" stroke-width=\"1.0\">\n        </line>\n        <line x1=\"1292.8421950350282\" y1=\"-0.0\" x2=\"1292.8421950350282\" y2=\"-620.0\" stroke=\"rgb(215,212,203)\" stroke-opacity=\"1.0\" stroke-width=\"1.0\">\n        </line>\n        <line x1=\"1647.0455361405154\" y1=\"-0.0\" x2=\"1647.0455361405154\" y2=\"-620.0\" stroke=\"rgb(215,212,203)\" stroke-opacity=\"1.0\" stroke-width=\"1.0\">\n        </line>\n        <g transform=\"translate(230.2321717185667 0.0 ) \">\n          <line stroke-width=\"1.0\" stroke=\"rgb(46,78,88)\" stroke-opacity=\"1.0\" x2=\"0.0\" y2=\"4.0\">\n          </line>\n          <g transform=\"translate(0.0 7.0 ) \">\n            <text class=\"axis-text-x\" text-anchor=\"middle\" dy=\"0.7em\">\n            UnusedPrivateMember\n            </text>\n          </g>\n        </g>\n        <g transform=\"translate(584.4355128240538 0.0 ) \">\n          <line stroke-width=\"1.0\" stroke=\"rgb(46,78,88)\" stroke-opacity=\"1.0\" x2=\"0.0\" y2=\"4.0\">\n          </line>\n          <g transform=\"translate(0.0 7.0 ) \">\n            <text class=\"axis-text-x\" text-anchor=\"middle\" dy=\"0.7em\">\n            MagicNumber\n            </text>\n          </g>\n        </g>\n        <g transform=\"translate(938.638853929541 0.0 ) \">\n          <line stroke-width=\"1.0\" stroke=\"rgb(46,78,88)\" stroke-opacity=\"1.0\" x2=\"0.0\" y2=\"4.0\">\n          </line>\n          <g transform=\"translate(0.0 7.0 ) \">\n            <text class=\"axis-text-x\" text-anchor=\"middle\" dy=\"0.7em\">\n            LongParameterList\n            </text>\n          </g>\n        </g>\n        <g transform=\"translate(1292.8421950350282 0.0 ) \">\n          <line stroke-width=\"1.0\" stroke=\"rgb(46,78,88)\" stroke-opacity=\"1.0\" x2=\"0.0\" y2=\"4.0\">\n          </line>\n          <g transform=\"translate(0.0 7.0 ) \">\n            <text class=\"axis-text-x\" text-anchor=\"middle\" dy=\"0.7em\">\n            MaxLineLength\n            </text>\n          </g>\n        </g>\n        <g transform=\"translate(1647.0455361405154 0.0 ) \">\n          <line stroke-width=\"1.0\" stroke=\"rgb(46,78,88)\" stroke-opacity=\"1.0\" x2=\"0.0\" y2=\"4.0\">\n          </line>\n          <g transform=\"translate(0.0 7.0 ) \">\n            <text class=\"axis-text-x\" text-anchor=\"middle\" dy=\"0.7em\">\n            FunctionOnlyReturningConstant\n            </text>\n          </g>\n        </g>\n        <line x1=\"0.0\" y1=\"0.0\" x2=\"1877.2777078590825\" y2=\"0.0\" stroke-width=\"1.0\" stroke=\"rgb(46,78,88)\" stroke-opacity=\"1.0\">\n        </line>\n      </g>\n      <g transform=\"translate(27.034701220281416 0.0 ) \">\n        <line x1=\"0.0\" y1=\"577.8231292517007\" x2=\"1877.2777078590825\" y2=\"577.8231292517007\" stroke=\"rgb(215,212,203)\" stroke-opacity=\"1.0\" stroke-width=\"1.0\">\n        </line>\n        <line x1=\"0.0\" y1=\"535.6462585034013\" x2=\"1877.2777078590825\" y2=\"535.6462585034013\" stroke=\"rgb(215,212,203)\" stroke-opacity=\"1.0\" stroke-width=\"1.0\">\n        </line>\n        <line x1=\"0.0\" y1=\"493.46938775510205\" x2=\"1877.2777078590825\" y2=\"493.46938775510205\" stroke=\"rgb(215,212,203)\" stroke-opacity=\"1.0\" stroke-width=\"1.0\">\n        </line>\n        <line x1=\"0.0\" y1=\"451.2925170068027\" x2=\"1877.2777078590825\" y2=\"451.2925170068027\" stroke=\"rgb(215,212,203)\" stroke-opacity=\"1.0\" stroke-width=\"1.0\">\n        </line>\n        <line x1=\"0.0\" y1=\"409.1156462585034\" x2=\"1877.2777078590825\" y2=\"409.1156462585034\" stroke=\"rgb(215,212,203)\" stroke-opacity=\"1.0\" stroke-width=\"1.0\">\n        </line>\n        <line x1=\"0.0\" y1=\"366.9387755102041\" x2=\"1877.2777078590825\" y2=\"366.9387755102041\" stroke=\"rgb(215,212,203)\" stroke-opacity=\"1.0\" stroke-width=\"1.0\">\n        </line>\n        <line x1=\"0.0\" y1=\"324.76190476190476\" x2=\"1877.2777078590825\" y2=\"324.76190476190476\" stroke=\"rgb(215,212,203)\" stroke-opacity=\"1.0\" stroke-width=\"1.0\">\n        </line>\n        <line x1=\"0.0\" y1=\"282.5850340136054\" x2=\"1877.2777078590825\" y2=\"282.5850340136054\" stroke=\"rgb(215,212,203)\" stroke-opacity=\"1.0\" stroke-width=\"1.0\">\n        </line>\n        <line x1=\"0.0\" y1=\"240.4081632653061\" x2=\"1877.2777078590825\" y2=\"240.4081632653061\" stroke=\"rgb(215,212,203)\" stroke-opacity=\"1.0\" stroke-width=\"1.0\">\n        </line>\n        <line x1=\"0.0\" y1=\"198.23129251700675\" x2=\"1877.2777078590825\" y2=\"198.23129251700675\" stroke=\"rgb(215,212,203)\" stroke-opacity=\"1.0\" stroke-width=\"1.0\">\n        </line>\n        <line x1=\"0.0\" y1=\"156.05442176870747\" x2=\"1877.2777078590825\" y2=\"156.05442176870747\" stroke=\"rgb(215,212,203)\" stroke-opacity=\"1.0\" stroke-width=\"1.0\">\n        </line>\n        <line x1=\"0.0\" y1=\"113.87755102040813\" x2=\"1877.2777078590825\" y2=\"113.87755102040813\" stroke=\"rgb(215,212,203)\" stroke-opacity=\"1.0\" stroke-width=\"1.0\">\n        </line>\n        <line x1=\"0.0\" y1=\"71.7006802721088\" x2=\"1877.2777078590825\" y2=\"71.7006802721088\" stroke=\"rgb(215,212,203)\" stroke-opacity=\"1.0\" stroke-width=\"1.0\">\n        </line>\n        <line x1=\"0.0\" y1=\"29.52380952380952\" x2=\"1877.2777078590825\" y2=\"29.52380952380952\" stroke=\"rgb(215,212,203)\" stroke-opacity=\"1.0\" stroke-width=\"1.0\">\n        </line>\n        <g transform=\"translate(0.0 620.0 ) \">\n          <g transform=\"translate(-3.0 0.0 ) \">\n            <text class=\"axis-text-y\" text-anchor=\"end\" dy=\"0.35em\">\n            0.0\n            </text>\n          </g>\n        </g>\n        <g transform=\"translate(0.0 577.8231292517007 ) \">\n          <g transform=\"translate(-3.0 0.0 ) \">\n            <text class=\"axis-text-y\" text-anchor=\"end\" dy=\"0.35em\">\n            0.5\n            </text>\n          </g>\n        </g>\n        <g transform=\"translate(0.0 535.6462585034013 ) \">\n          <g transform=\"translate(-3.0 0.0 ) \">\n            <text class=\"axis-text-y\" text-anchor=\"end\" dy=\"0.35em\">\n            1.0\n            </text>\n          </g>\n        </g>\n        <g transform=\"translate(0.0 493.46938775510205 ) \">\n          <g transform=\"translate(-3.0 0.0 ) \">\n            <text class=\"axis-text-y\" text-anchor=\"end\" dy=\"0.35em\">\n            1.5\n            </text>\n          </g>\n        </g>\n        <g transform=\"translate(0.0 451.2925170068027 ) \">\n          <g transform=\"translate(-3.0 0.0 ) \">\n            <text class=\"axis-text-y\" text-anchor=\"end\" dy=\"0.35em\">\n            2.0\n            </text>\n          </g>\n        </g>\n        <g transform=\"translate(0.0 409.1156462585034 ) \">\n          <g transform=\"translate(-3.0 0.0 ) \">\n            <text class=\"axis-text-y\" text-anchor=\"end\" dy=\"0.35em\">\n            2.5\n            </text>\n          </g>\n        </g>\n        <g transform=\"translate(0.0 366.9387755102041 ) \">\n          <g transform=\"translate(-3.0 0.0 ) \">\n            <text class=\"axis-text-y\" text-anchor=\"end\" dy=\"0.35em\">\n            3.0\n            </text>\n          </g>\n        </g>\n        <g transform=\"translate(0.0 324.76190476190476 ) \">\n          <g transform=\"translate(-3.0 0.0 ) \">\n            <text class=\"axis-text-y\" text-anchor=\"end\" dy=\"0.35em\">\n            3.5\n            </text>\n          </g>\n        </g>\n        <g transform=\"translate(0.0 282.5850340136054 ) \">\n          <g transform=\"translate(-3.0 0.0 ) \">\n            <text class=\"axis-text-y\" text-anchor=\"end\" dy=\"0.35em\">\n            4.0\n            </text>\n          </g>\n        </g>\n        <g transform=\"translate(0.0 240.4081632653061 ) \">\n          <g transform=\"translate(-3.0 0.0 ) \">\n            <text class=\"axis-text-y\" text-anchor=\"end\" dy=\"0.35em\">\n            4.5\n            </text>\n          </g>\n        </g>\n        <g transform=\"translate(0.0 198.23129251700675 ) \">\n          <g transform=\"translate(-3.0 0.0 ) \">\n            <text class=\"axis-text-y\" text-anchor=\"end\" dy=\"0.35em\">\n            5.0\n            </text>\n          </g>\n        </g>\n        <g transform=\"translate(0.0 156.05442176870747 ) \">\n          <g transform=\"translate(-3.0 0.0 ) \">\n            <text class=\"axis-text-y\" text-anchor=\"end\" dy=\"0.35em\">\n            5.5\n            </text>\n          </g>\n        </g>\n        <g transform=\"translate(0.0 113.87755102040813 ) \">\n          <g transform=\"translate(-3.0 0.0 ) \">\n            <text class=\"axis-text-y\" text-anchor=\"end\" dy=\"0.35em\">\n            6.0\n            </text>\n          </g>\n        </g>\n        <g transform=\"translate(0.0 71.7006802721088 ) \">\n          <g transform=\"translate(-3.0 0.0 ) \">\n            <text class=\"axis-text-y\" text-anchor=\"end\" dy=\"0.35em\">\n            6.5\n            </text>\n          </g>\n        </g>\n        <g transform=\"translate(0.0 29.52380952380952 ) \">\n          <g transform=\"translate(-3.0 0.0 ) \">\n            <text class=\"axis-text-y\" text-anchor=\"end\" dy=\"0.35em\">\n            7.0\n            </text>\n          </g>\n        </g>\n      </g>\n      <g transform=\"translate(27.034701220281416 0.0 ) \" clip-path=\"url(#c33QXwA)\" clip-bounds-jfx=\"[rect (0.0, 0.0), (1877.2777078590825, 620.0)]\">\n        <defs>\n          <clipPath id=\"c33QXwA\">\n            <rect x=\"0.0\" y=\"0.0\" width=\"1877.2777078590825\" height=\"620.0\">\n            </rect>\n          </clipPath>\n        </defs>\n        <rect x=\"1487.654032643046\" y=\"535.6462585034013\" height=\"84.35374149659867\" width=\"318.78300699493866\" stroke=\"rgb(0,0,0)\" stroke-opacity=\"1.0\" fill=\"rgb(250,200,87)\" fill-opacity=\"1.0\" stroke-width=\"1.0\">\n        </rect>\n        <rect x=\"1133.450691537559\" y=\"535.6462585034013\" height=\"84.35374149659867\" width=\"318.78300699493843\" stroke=\"rgb(0,0,0)\" stroke-opacity=\"1.0\" fill=\"rgb(250,200,87)\" fill-opacity=\"1.0\" stroke-width=\"1.0\">\n        </rect>\n        <rect x=\"779.2473504320719\" y=\"451.2925170068027\" height=\"168.7074829931973\" width=\"318.78300699493843\" stroke=\"rgb(0,0,0)\" stroke-opacity=\"1.0\" fill=\"rgb(248,181,90)\" fill-opacity=\"1.0\" stroke-width=\"1.0\">\n        </rect>\n        <rect x=\"425.04400932658467\" y=\"451.2925170068027\" height=\"168.7074829931973\" width=\"318.7830069949385\" stroke=\"rgb(0,0,0)\" stroke-opacity=\"1.0\" fill=\"rgb(248,181,90)\" fill-opacity=\"1.0\" stroke-width=\"1.0\">\n        </rect>\n        <rect x=\"70.84066822109745\" y=\"29.52380952380952\" height=\"590.4761904761905\" width=\"318.78300699493855\" stroke=\"rgb(0,0,0)\" stroke-opacity=\"1.0\" fill=\"rgb(237,102,102)\" fill-opacity=\"1.0\" stroke-width=\"1.0\">\n        </rect>\n      </g>\n    </g>\n    <g transform=\"translate(50.03470122028142 15.2 ) \">\n      <text class=\"plot-title\" y=\"0.0\">\n      Usage of @Suppress and @SuppressWarnings\n      </text>\n    </g>\n    <g transform=\"translate(14.5 344.0 ) rotate(-90.0 ) \">\n      <text class=\"axis-title-y\" y=\"0.0\" text-anchor=\"middle\">\n      count\n      </text>\n    </g>\n    <g transform=\"translate(988.6735551498227 691.5 ) \">\n      <text class=\"axis-title-x\" y=\"0.0\" text-anchor=\"middle\">\n      names\n      </text>\n    </g>\n    <g transform=\"translate(1937.312409079364 265.25 ) \">\n      <rect x=\"5.0\" y=\"5.0\" height=\"147.5\" width=\"52.68759092063594\" stroke=\"rgb(46,78,88)\" stroke-opacity=\"1.0\" stroke-width=\"0.0\" fill=\"rgb(253,246,227)\" fill-opacity=\"1.0\">\n      </rect>\n      <g transform=\"translate(10.0 10.0 ) \">\n        <g transform=\"translate(0.0 10.5 ) \">\n          <text class=\"legend-title\" y=\"0.0\">\n          count\n          </text>\n        </g>\n        <g transform=\"translate(0.0 22.5 ) \">\n          <g>\n            <rect x=\"0.0\" y=\"0.0\" height=\"115.0\" width=\"23.0\" stroke-width=\"0.0\" fill=\"rgb(237,104,102)\" fill-opacity=\"1.0\">\n            </rect>\n            <rect x=\"0.0\" y=\"7.55\" height=\"107.45\" width=\"23.0\" stroke-width=\"0.0\" fill=\"rgb(238,108,101)\" fill-opacity=\"1.0\">\n            </rect>\n            <rect x=\"0.0\" y=\"13.1\" height=\"101.9\" width=\"23.0\" stroke-width=\"0.0\" fill=\"rgb(239,112,100)\" fill-opacity=\"1.0\">\n            </rect>\n            <rect x=\"0.0\" y=\"18.65\" height=\"96.35\" width=\"23.0\" stroke-width=\"0.0\" fill=\"rgb(239,116,100)\" fill-opacity=\"1.0\">\n            </rect>\n            <rect x=\"0.0\" y=\"24.2\" height=\"90.8\" width=\"23.0\" stroke-width=\"0.0\" fill=\"rgb(240,121,99)\" fill-opacity=\"1.0\">\n            </rect>\n            <rect x=\"0.0\" y=\"29.75\" height=\"85.25\" width=\"23.0\" stroke-width=\"0.0\" fill=\"rgb(241,125,98)\" fill-opacity=\"1.0\">\n            </rect>\n            <rect x=\"0.0\" y=\"35.3\" height=\"79.7\" width=\"23.0\" stroke-width=\"0.0\" fill=\"rgb(241,130,97)\" fill-opacity=\"1.0\">\n            </rect>\n            <rect x=\"0.0\" y=\"40.849999999999994\" height=\"74.15\" width=\"23.0\" stroke-width=\"0.0\" fill=\"rgb(242,134,97)\" fill-opacity=\"1.0\">\n            </rect>\n            <rect x=\"0.0\" y=\"46.39999999999999\" height=\"68.60000000000001\" width=\"23.0\" stroke-width=\"0.0\" fill=\"rgb(243,139,96)\" fill-opacity=\"1.0\">\n            </rect>\n            <rect x=\"0.0\" y=\"51.94999999999999\" height=\"63.05000000000001\" width=\"23.0\" stroke-width=\"0.0\" fill=\"rgb(243,144,95)\" fill-opacity=\"1.0\">\n            </rect>\n            <rect x=\"0.0\" y=\"57.499999999999986\" height=\"57.500000000000014\" width=\"23.0\" stroke-width=\"0.0\" fill=\"rgb(244,149,95)\" fill-opacity=\"1.0\">\n            </rect>\n            <rect x=\"0.0\" y=\"63.04999999999998\" height=\"51.95000000000002\" width=\"23.0\" stroke-width=\"0.0\" fill=\"rgb(244,154,94)\" fill-opacity=\"1.0\">\n            </rect>\n            <rect x=\"0.0\" y=\"68.59999999999998\" height=\"46.40000000000002\" width=\"23.0\" stroke-width=\"0.0\" fill=\"rgb(245,159,93)\" fill-opacity=\"1.0\">\n            </rect>\n            <rect x=\"0.0\" y=\"74.14999999999998\" height=\"40.85000000000002\" width=\"23.0\" stroke-width=\"0.0\" fill=\"rgb(246,164,92)\" fill-opacity=\"1.0\">\n            </rect>\n            <rect x=\"0.0\" y=\"79.69999999999997\" height=\"35.300000000000026\" width=\"23.0\" stroke-width=\"0.0\" fill=\"rgb(246,169,92)\" fill-opacity=\"1.0\">\n            </rect>\n            <rect x=\"0.0\" y=\"85.24999999999997\" height=\"29.75000000000003\" width=\"23.0\" stroke-width=\"0.0\" fill=\"rgb(247,175,91)\" fill-opacity=\"1.0\">\n            </rect>\n            <rect x=\"0.0\" y=\"90.79999999999997\" height=\"24.20000000000003\" width=\"23.0\" stroke-width=\"0.0\" fill=\"rgb(248,180,90)\" fill-opacity=\"1.0\">\n            </rect>\n            <rect x=\"0.0\" y=\"96.34999999999997\" height=\"18.650000000000034\" width=\"23.0\" stroke-width=\"0.0\" fill=\"rgb(248,186,89)\" fill-opacity=\"1.0\">\n            </rect>\n            <rect x=\"0.0\" y=\"101.89999999999996\" height=\"13.100000000000037\" width=\"23.0\" stroke-width=\"0.0\" fill=\"rgb(249,191,89)\" fill-opacity=\"1.0\">\n            </rect>\n            <rect x=\"0.0\" y=\"107.44999999999996\" height=\"7.55000000000004\" width=\"23.0\" stroke-width=\"0.0\" fill=\"rgb(250,197,88)\" fill-opacity=\"1.0\">\n            </rect>\n            <line x1=\"0.0\" y1=\"113.0\" x2=\"4.6\" y2=\"113.0\" stroke-width=\"1.0\" stroke=\"rgb(253,246,227)\" stroke-opacity=\"1.0\">\n            </line>\n            <line x1=\"18.4\" y1=\"113.0\" x2=\"23.0\" y2=\"113.0\" stroke-width=\"1.0\" stroke=\"rgb(253,246,227)\" stroke-opacity=\"1.0\">\n            </line>\n            <g transform=\"translate(26.9903027277341 117.55 ) \">\n              <text class=\"legend-item\" y=\"0.0\">\n              1\n              </text>\n            </g>\n            <line x1=\"0.0\" y1=\"94.5\" x2=\"4.6\" y2=\"94.5\" stroke-width=\"1.0\" stroke=\"rgb(253,246,227)\" stroke-opacity=\"1.0\">\n            </line>\n            <line x1=\"18.4\" y1=\"94.5\" x2=\"23.0\" y2=\"94.5\" stroke-width=\"1.0\" stroke=\"rgb(253,246,227)\" stroke-opacity=\"1.0\">\n            </line>\n            <g transform=\"translate(26.9903027277341 99.05 ) \">\n              <text class=\"legend-item\" y=\"0.0\">\n              2\n              </text>\n            </g>\n            <line x1=\"0.0\" y1=\"76.0\" x2=\"4.6\" y2=\"76.0\" stroke-width=\"1.0\" stroke=\"rgb(253,246,227)\" stroke-opacity=\"1.0\">\n            </line>\n            <line x1=\"18.4\" y1=\"76.0\" x2=\"23.0\" y2=\"76.0\" stroke-width=\"1.0\" stroke=\"rgb(253,246,227)\" stroke-opacity=\"1.0\">\n            </line>\n            <g transform=\"translate(26.9903027277341 80.55 ) \">\n              <text class=\"legend-item\" y=\"0.0\">\n              3\n              </text>\n            </g>\n            <line x1=\"0.0\" y1=\"57.5\" x2=\"4.6\" y2=\"57.5\" stroke-width=\"1.0\" stroke=\"rgb(253,246,227)\" stroke-opacity=\"1.0\">\n            </line>\n            <line x1=\"18.4\" y1=\"57.5\" x2=\"23.0\" y2=\"57.5\" stroke-width=\"1.0\" stroke=\"rgb(253,246,227)\" stroke-opacity=\"1.0\">\n            </line>\n            <g transform=\"translate(26.9903027277341 62.05 ) \">\n              <text class=\"legend-item\" y=\"0.0\">\n              4\n              </text>\n            </g>\n            <line x1=\"0.0\" y1=\"39.0\" x2=\"4.6\" y2=\"39.0\" stroke-width=\"1.0\" stroke=\"rgb(253,246,227)\" stroke-opacity=\"1.0\">\n            </line>\n            <line x1=\"18.4\" y1=\"39.0\" x2=\"23.0\" y2=\"39.0\" stroke-width=\"1.0\" stroke=\"rgb(253,246,227)\" stroke-opacity=\"1.0\">\n            </line>\n            <g transform=\"translate(26.9903027277341 43.55 ) \">\n              <text class=\"legend-item\" y=\"0.0\">\n              5\n              </text>\n            </g>\n            <line x1=\"0.0\" y1=\"20.5\" x2=\"4.6\" y2=\"20.5\" stroke-width=\"1.0\" stroke=\"rgb(253,246,227)\" stroke-opacity=\"1.0\">\n            </line>\n            <line x1=\"18.4\" y1=\"20.5\" x2=\"23.0\" y2=\"20.5\" stroke-width=\"1.0\" stroke=\"rgb(253,246,227)\" stroke-opacity=\"1.0\">\n            </line>\n            <g transform=\"translate(26.9903027277341 25.049999999999997 ) \">\n              <text class=\"legend-item\" y=\"0.0\">\n              6\n              </text>\n            </g>\n            <line x1=\"0.0\" y1=\"2.0\" x2=\"4.6\" y2=\"2.0\" stroke-width=\"1.0\" stroke=\"rgb(253,246,227)\" stroke-opacity=\"1.0\">\n            </line>\n            <line x1=\"18.4\" y1=\"2.0\" x2=\"23.0\" y2=\"2.0\" stroke-width=\"1.0\" stroke=\"rgb(253,246,227)\" stroke-opacity=\"1.0\">\n            </line>\n            <g transform=\"translate(26.9903027277341 6.549999999999999 ) \">\n              <text class=\"legend-item\" y=\"0.0\">\n              7\n              </text>\n            </g>\n          </g>\n        </g>\n      </g>\n    </g>\n  </g>\n  <g id=\"d2MgJNQ\">\n  </g>\n</svg>\n        <script>document.getElementById(\"956407ec-9255-4f4e-b707-c46c99091ab4\").style.display = \"none\";</script>",
      "application/plot+json": {
       "output_type": "lets_plot_spec",
       "output": {
        "ggtitle": {
         "text": "Usage of @Suppress and @SuppressWarnings"
        },
        "mapping": {},
        "data": {},
        "ggsize": {
         "width": 2000.0,
         "height": 700.0
        },
        "kind": "plot",
        "scales": [
         {
          "aesthetic": "x",
          "discrete": true
         },
         {
          "aesthetic": "y",
          "limits": [
           null,
           null
          ]
         },
         {
          "aesthetic": "fill",
          "scale_mapper_kind": "color_gradient",
          "high": "#ee6666",
          "low": "#fac858",
          "limits": [
           null,
           null
          ]
         }
        ],
        "layers": [
         {
          "mapping": {
           "x": "names",
           "y": "count",
           "fill": "count"
          },
          "stat": "identity",
          "data": {
           "names": [
            "UnusedPrivateMember",
            "MagicNumber",
            "LongParameterList",
            "MaxLineLength",
            "FunctionOnlyReturningConstant"
           ],
           "count": [
            7.0,
            2.0,
            2.0,
            1.0,
            1.0
           ]
          },
          "size": 0.5,
          "color": "#000000",
          "sampling": "none",
          "position": "dodge",
          "geom": "bar"
         }
        ],
        "theme": {
         "flavor": "solarized_light"
        }
       },
       "apply_color_scheme": true,
       "swing_enabled": true
      }
     },
     "execution_count": 19,
     "metadata": {},
     "output_type": "execute_result"
    }
   ],
   "source": [
    "plot {\n",
    "    bars {\n",
    "        x(supps.keys, \"names\")\n",
    "        y(supps.values, \"count\")\n",
    "\n",
    "        borderLine.width = 0.5\n",
    "        borderLine.color = Color.BLACK\n",
    "        \n",
    "        fillColor(\"count\"<Double>()) {\n",
    "            scale = continuous(range = Color.YELLOW..Color.RED)\n",
    "        }\n",
    "\n",
    "    }\n",
    "    layout {\n",
    "        title = \"Usage of @Suppress and @SuppressWarnings\"\n",
    "        size = 2000 to 700\n",
    "        flavor = Flavor.SOLARIZED_LIGHT\n",
    "    }\n",
    "}"
   ],
   "metadata": {
    "collapsed": false,
    "ExecuteTime": {
     "end_time": "2023-11-13T14:04:39.657257Z",
     "start_time": "2023-11-13T14:04:39.359037Z"
    }
   }
  },
  {
   "cell_type": "code",
   "execution_count": 20,
   "outputs": [],
   "source": [],
   "metadata": {
    "collapsed": false,
    "ExecuteTime": {
     "end_time": "2023-11-13T14:04:39.658851Z",
     "start_time": "2023-11-13T14:04:39.637677Z"
    }
   }
  }
 ],
 "metadata": {
  "kernelspec": {
   "display_name": "Kotlin",
   "language": "kotlin",
   "name": "kotlin"
  },
  "language_info": {
   "name": "kotlin",
   "version": "1.9.0",
   "mimetype": "text/x-kotlin",
   "file_extension": ".kt",
   "pygments_lexer": "kotlin",
   "codemirror_mode": "text/x-kotlin",
   "nbconvert_exporter": ""
  }
 },
 "nbformat": 4,
 "nbformat_minor": 0
}
